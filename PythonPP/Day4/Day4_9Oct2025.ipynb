{
 "cells": [
  {
   "cell_type": "markdown",
   "id": "7dc0d117-e926-4c0a-b1e8-a126b852b25e",
   "metadata": {},
   "source": [
    "# Agenda (Day4 : 09Oct2025):    \n",
    "    \n",
    "    - More towards Parallel-programming(hardware & packages)\n",
    "    - Models and Frameworks of Python Parallel-Programming\n",
    "    - cupy intro, and openMPI intro\n",
    "    - lab installation issues (Siddhant)\n",
    "    \n"
   ]
  },
  {
   "cell_type": "markdown",
   "id": "0347800f-e7eb-48ed-8c81-5a1c7600da06",
   "metadata": {},
   "source": [
    "# Parallel Computing Memory-architecture"
   ]
  },
  {
   "cell_type": "code",
   "execution_count": 6,
   "id": "e60ed38a-9943-4fc5-9fc8-ac7a8f3e3ac3",
   "metadata": {},
   "outputs": [
    {
     "name": "stdout",
     "output_type": "stream",
     "text": [
      "#SISD \n",
      "SISD processing item 0\n",
      "SISD processing item 1\n",
      "SISD processing item 2\n",
      "SISD processing item 3\n",
      "SISD processing item 4\n",
      "+- +- +- +- +- +- +- +- +- +- +- +- +- +- +- +- +- +- +- +- +- +- +- +- +- \n",
      "#SIMD \n",
      " SIMD:  [ 2  4  6  8 10]\n",
      "+- +- +- +- +- +- +- +- +- +- +- +- +- +- +- +- +- +- +- +- +- +- +- +- +- \n",
      "#MISD \n",
      "square: 9\n",
      "cube: 27\n",
      "+- +- +- +- +- +- +- +- +- +- +- +- +- +- +- +- +- +- +- +- +- +- +- +- +- \n",
      "#MIMD \n",
      "Contatenate: [1, 2, 3, 4, 5, 6, 7, 8]\n"
     ]
    }
   ],
   "source": [
    "\n",
    "#SISD\n",
    "print(\"#SISD \")\n",
    "for i in range(5):\n",
    "    print(f'SISD processing item {i}')\n",
    "\n",
    "print(\"+- \" * 25)\n",
    "print(\"#SIMD \")\n",
    "# SIMD\n",
    "import numpy as np\n",
    "arr = np.array([1,2,3,4,5])\n",
    "print(\" SIMD: \", arr * 2)\n",
    "\n",
    "print(\"+- \" * 25)\n",
    "print(\"#MISD \")\n",
    "# MISD\n",
    "import threading\n",
    "\n",
    "def add(data_structure1, data_structure2) : print(f'Contatenate: { data_structure1 + data_structure2}') \n",
    "def sq(x) : print(f'square: { x * x}')\n",
    "def cube(x) : print(f'cube: { x **3}')\n",
    "\n",
    "data_tup = (3, )\n",
    "t1 = threading.Thread(target = sq, args=data_tup)\n",
    "t2 = threading.Thread(target = cube, args=data_tup)\n",
    "\n",
    "t1.start(); t2.start();\n",
    "\n",
    "print(\"+- \" * 25)\n",
    "print(\"#MIMD \")\n",
    "data_tup = ([1,2,3,4], [5,6,7,8])\n",
    "t3 = threading.Thread(target = add, args=data_tup)\n",
    "\n",
    "t3. start()\n",
    "\n",
    "t1.join(); t2.join(); t3.join()"
   ]
  },
  {
   "cell_type": "markdown",
   "id": "a2fa21d2-6027-4540-9d58-833ff660cc5a",
   "metadata": {},
   "source": [
    "# Distributed Memory"
   ]
  },
  {
   "cell_type": "code",
   "execution_count": null,
   "id": "a9c46b4c-4ed2-4c82-aff4-df1ae340b839",
   "metadata": {},
   "outputs": [],
   "source": [
    "import mpi4py "
   ]
  },
  {
   "cell_type": "code",
   "execution_count": 7,
   "id": "0f93c3d4-13ae-40ee-8db2-9447815c3d3e",
   "metadata": {},
   "outputs": [
    {
     "name": "stdout",
     "output_type": "stream",
     "text": [
      "lst1 =  [0, 1, 2, 3, 4, 5, 6, 7, 8, 9]\n",
      " -- add called --\n",
      " -- add called --\n",
      " -- add called --\n",
      " -- add called --\n",
      " -- add called --\n",
      " -- add called --\n",
      " -- add called --\n",
      " -- add called --\n",
      " -- add called --\n",
      "result =  45\n"
     ]
    }
   ],
   "source": [
    "\n",
    "def add(x, y):\n",
    "    print(' -- add called --')\n",
    "    return x + y\n",
    "\n",
    "def repeater(fn, src): # Functional-style-programming\n",
    "    first = src[0]\n",
    "\n",
    "    for second in src[1:]:\n",
    "        first = fn(first, second)\n",
    "    return first\n",
    "    \n",
    "def main():\n",
    "    lst1 = [ val for val in range(10) ] \n",
    "    print('lst1 = ' , lst1)\n",
    "\n",
    "    result = repeater(add, lst1)\n",
    "    print('result = ', result)\n",
    "\n",
    "\n",
    "    \n",
    "if __name__ == '__main__':\n",
    "    main()\n",
    "\n"
   ]
  },
  {
   "cell_type": "code",
   "execution_count": 8,
   "id": "45a9dd49-684a-4f61-82c9-99dabae65774",
   "metadata": {},
   "outputs": [
    {
     "name": "stdout",
     "output_type": "stream",
     "text": [
      "lst1 =  [0, 1, 2, 3, 4, 5, 6, 7, 8, 9]\n",
      "result =  45\n"
     ]
    }
   ],
   "source": [
    "\n",
    "def add(x, y):\n",
    "    print(' -- add called --')\n",
    "    return x + y\n",
    "\n",
    "def repeater(fn, src): # Functional-style-programming\n",
    "    first = src[0]\n",
    "\n",
    "    for second in src[1:]:\n",
    "        first = fn(first, second)\n",
    "    return first\n",
    "    \n",
    "def main():\n",
    "    lst1 = [ val for val in range(10) ] \n",
    "    print('lst1 = ' , lst1)\n",
    "\n",
    "    result = sum( lst1)\n",
    "    print('result = ', result)\n",
    "\n",
    "\n",
    "    \n",
    "if __name__ == '__main__':\n",
    "    main()\n",
    "\n"
   ]
  },
  {
   "cell_type": "code",
   "execution_count": 9,
   "id": "41bb5fc6-5aeb-4114-b155-1c19eb2d5083",
   "metadata": {},
   "outputs": [
    {
     "name": "stdout",
     "output_type": "stream",
     "text": [
      "lst1 =  [0, 1, 2, 3, 4, 5, 6, 7, 8, 9]\n",
      " -- add called --\n",
      " -- add called --\n",
      " -- add called --\n",
      " -- add called --\n",
      " -- add called --\n",
      " -- add called --\n",
      " -- add called --\n",
      " -- add called --\n",
      " -- add called --\n",
      "result =  45\n"
     ]
    }
   ],
   "source": [
    "\n",
    "def add(x, y):\n",
    "    print(' -- add called --')\n",
    "    return x + y\n",
    "\n",
    "def main():\n",
    "    import functools\n",
    "    lst1 = [ val for val in range(10) ] \n",
    "    print('lst1 = ' , lst1)\n",
    "\n",
    "    result = functools.reduce( add, lst1)\n",
    "    print('result = ', result)\n",
    "\n",
    "\n",
    "    \n",
    "if __name__ == '__main__':\n",
    "    main()\n",
    "\n"
   ]
  },
  {
   "cell_type": "code",
   "execution_count": 10,
   "id": "cd644b31-a410-4d38-8862-2c3342d3d9e8",
   "metadata": {},
   "outputs": [],
   "source": [
    "from IPython.core.magic import register_cell_magic\n",
    "\n",
    "@register_cell_magic\n",
    "def mpirun(line, cell):\n",
    "    args = line.split()\n",
    "    with open(\"temp_mpi.py\", \"w\") as f:\n",
    "        f.write(cell)\n",
    "    cmd = [\"mpiexec\" ] + args + [\"python\", \"temp_mpi.py\"]\n",
    "    subprocess.run(cmd)\n",
    "    \n",
    "\n"
   ]
  },
  {
   "cell_type": "code",
   "execution_count": 11,
   "id": "2af09b15-2109-42ee-accf-7eeda76610e3",
   "metadata": {},
   "outputs": [
    {
     "ename": "NameError",
     "evalue": "name 'subprocess' is not defined",
     "output_type": "error",
     "traceback": [
      "\u001b[1;31m---------------------------------------------------------------------------\u001b[0m",
      "\u001b[1;31mNameError\u001b[0m                                 Traceback (most recent call last)",
      "Cell \u001b[1;32mIn[11], line 1\u001b[0m\n\u001b[1;32m----> 1\u001b[0m get_ipython()\u001b[38;5;241m.\u001b[39mrun_cell_magic(\u001b[38;5;124m'\u001b[39m\u001b[38;5;124mmpirun\u001b[39m\u001b[38;5;124m'\u001b[39m, \u001b[38;5;124m'\u001b[39m\u001b[38;5;124m-n 4\u001b[39m\u001b[38;5;124m'\u001b[39m, \u001b[38;5;124m'\u001b[39m\u001b[38;5;130;01m\\n\u001b[39;00m\u001b[38;5;124mdef main():\u001b[39m\u001b[38;5;130;01m\\n\u001b[39;00m\u001b[38;5;124m    from mpi4py import MPI\u001b[39m\u001b[38;5;130;01m\\n\u001b[39;00m\u001b[38;5;124m    comm = MPI.COMM_WORLD\u001b[39m\u001b[38;5;130;01m\\n\u001b[39;00m\u001b[38;5;124m    rank = comm.Get_rank()\u001b[39m\u001b[38;5;130;01m\\n\u001b[39;00m\u001b[38;5;124m    size = comm.Get_size()\u001b[39m\u001b[38;5;130;01m\\n\u001b[39;00m\u001b[38;5;124m    print(f\u001b[39m\u001b[38;5;130;01m\\'\u001b[39;00m\u001b[38;5;124m Process \u001b[39m\u001b[38;5;132;01m{rank}\u001b[39;00m\u001b[38;5;124m out of \u001b[39m\u001b[38;5;132;01m{size}\u001b[39;00m\u001b[38;5;124m is alive\u001b[39m\u001b[38;5;124m\"\u001b[39m\u001b[38;5;124m)\u001b[39m\u001b[38;5;130;01m\\n\u001b[39;00m\u001b[38;5;124m    \u001b[39m\u001b[38;5;130;01m\\n\u001b[39;00m\u001b[38;5;124mif __name__ == \u001b[39m\u001b[38;5;130;01m\\'\u001b[39;00m\u001b[38;5;124m__main__\u001b[39m\u001b[38;5;130;01m\\'\u001b[39;00m\u001b[38;5;124m:\u001b[39m\u001b[38;5;130;01m\\n\u001b[39;00m\u001b[38;5;124m    main()\u001b[39m\u001b[38;5;130;01m\\n\u001b[39;00m\u001b[38;5;124m'\u001b[39m)\n",
      "File \u001b[1;32mC:\\ProgramData\\anaconda3\\Lib\\site-packages\\IPython\\core\\interactiveshell.py:2541\u001b[0m, in \u001b[0;36mInteractiveShell.run_cell_magic\u001b[1;34m(self, magic_name, line, cell)\u001b[0m\n\u001b[0;32m   2539\u001b[0m \u001b[38;5;28;01mwith\u001b[39;00m \u001b[38;5;28mself\u001b[39m\u001b[38;5;241m.\u001b[39mbuiltin_trap:\n\u001b[0;32m   2540\u001b[0m     args \u001b[38;5;241m=\u001b[39m (magic_arg_s, cell)\n\u001b[1;32m-> 2541\u001b[0m     result \u001b[38;5;241m=\u001b[39m fn(\u001b[38;5;241m*\u001b[39margs, \u001b[38;5;241m*\u001b[39m\u001b[38;5;241m*\u001b[39mkwargs)\n\u001b[0;32m   2543\u001b[0m \u001b[38;5;66;03m# The code below prevents the output from being displayed\u001b[39;00m\n\u001b[0;32m   2544\u001b[0m \u001b[38;5;66;03m# when using magics with decorator @output_can_be_silenced\u001b[39;00m\n\u001b[0;32m   2545\u001b[0m \u001b[38;5;66;03m# when the last Python token in the expression is a ';'.\u001b[39;00m\n\u001b[0;32m   2546\u001b[0m \u001b[38;5;28;01mif\u001b[39;00m \u001b[38;5;28mgetattr\u001b[39m(fn, magic\u001b[38;5;241m.\u001b[39mMAGIC_OUTPUT_CAN_BE_SILENCED, \u001b[38;5;28;01mFalse\u001b[39;00m):\n",
      "Cell \u001b[1;32mIn[10], line 9\u001b[0m, in \u001b[0;36mmpirun\u001b[1;34m(line, cell)\u001b[0m\n\u001b[0;32m      7\u001b[0m     f\u001b[38;5;241m.\u001b[39mwrite(cell)\n\u001b[0;32m      8\u001b[0m cmd \u001b[38;5;241m=\u001b[39m [\u001b[38;5;124m\"\u001b[39m\u001b[38;5;124mmpiexec\u001b[39m\u001b[38;5;124m\"\u001b[39m ] \u001b[38;5;241m+\u001b[39m args \u001b[38;5;241m+\u001b[39m [\u001b[38;5;124m\"\u001b[39m\u001b[38;5;124mpython\u001b[39m\u001b[38;5;124m\"\u001b[39m, \u001b[38;5;124m\"\u001b[39m\u001b[38;5;124mtemp_mpi.py\u001b[39m\u001b[38;5;124m\"\u001b[39m]\n\u001b[1;32m----> 9\u001b[0m subprocess\u001b[38;5;241m.\u001b[39mrun(cmd)\n",
      "\u001b[1;31mNameError\u001b[0m: name 'subprocess' is not defined"
     ]
    }
   ],
   "source": [
    "%%mpirun -n 4\n",
    "\n",
    "def main():\n",
    "    from mpi4py import MPI\n",
    "    comm = MPI.COMM_WORLD\n",
    "    rank = comm.Get_rank()\n",
    "    size = comm.Get_size()\n",
    "    print(f' Process {rank} out of {size} is alive\")\n",
    "    \n",
    "if __name__ == '__main__':\n",
    "    main()"
   ]
  },
  {
   "cell_type": "markdown",
   "id": "7b62a9a3-6517-4893-9082-0f5a0ec97669",
   "metadata": {},
   "source": [
    "## Asyncronous programming"
   ]
  },
  {
   "cell_type": "code",
   "execution_count": 12,
   "id": "5f41c520-a2cc-4f26-8c57-8bcb2bbba8d4",
   "metadata": {},
   "outputs": [
    {
     "ename": "RuntimeError",
     "evalue": "asyncio.run() cannot be called from a running event loop",
     "output_type": "error",
     "traceback": [
      "\u001b[1;31m---------------------------------------------------------------------------\u001b[0m",
      "\u001b[1;31mRuntimeError\u001b[0m                              Traceback (most recent call last)",
      "Cell \u001b[1;32mIn[12], line 19\u001b[0m\n\u001b[0;32m     16\u001b[0m     \u001b[38;5;28;01mawait\u001b[39;00m t2\n\u001b[0;32m     18\u001b[0m \u001b[38;5;28;01mif\u001b[39;00m \u001b[38;5;124m'\u001b[39m\u001b[38;5;124m__main__\u001b[39m\u001b[38;5;124m'\u001b[39m \u001b[38;5;241m==\u001b[39m \u001b[38;5;18m__name__\u001b[39m:\n\u001b[1;32m---> 19\u001b[0m     asyncio\u001b[38;5;241m.\u001b[39mrun(main())\n",
      "File \u001b[1;32mC:\\ProgramData\\anaconda3\\Lib\\asyncio\\runners.py:191\u001b[0m, in \u001b[0;36mrun\u001b[1;34m(main, debug, loop_factory)\u001b[0m\n\u001b[0;32m    161\u001b[0m \u001b[38;5;250m\u001b[39m\u001b[38;5;124;03m\"\"\"Execute the coroutine and return the result.\u001b[39;00m\n\u001b[0;32m    162\u001b[0m \n\u001b[0;32m    163\u001b[0m \u001b[38;5;124;03mThis function runs the passed coroutine, taking care of\u001b[39;00m\n\u001b[1;32m   (...)\u001b[0m\n\u001b[0;32m    187\u001b[0m \u001b[38;5;124;03m    asyncio.run(main())\u001b[39;00m\n\u001b[0;32m    188\u001b[0m \u001b[38;5;124;03m\"\"\"\u001b[39;00m\n\u001b[0;32m    189\u001b[0m \u001b[38;5;28;01mif\u001b[39;00m events\u001b[38;5;241m.\u001b[39m_get_running_loop() \u001b[38;5;129;01mis\u001b[39;00m \u001b[38;5;129;01mnot\u001b[39;00m \u001b[38;5;28;01mNone\u001b[39;00m:\n\u001b[0;32m    190\u001b[0m     \u001b[38;5;66;03m# fail fast with short traceback\u001b[39;00m\n\u001b[1;32m--> 191\u001b[0m     \u001b[38;5;28;01mraise\u001b[39;00m \u001b[38;5;167;01mRuntimeError\u001b[39;00m(\n\u001b[0;32m    192\u001b[0m         \u001b[38;5;124m\"\u001b[39m\u001b[38;5;124masyncio.run() cannot be called from a running event loop\u001b[39m\u001b[38;5;124m\"\u001b[39m)\n\u001b[0;32m    194\u001b[0m \u001b[38;5;28;01mwith\u001b[39;00m Runner(debug\u001b[38;5;241m=\u001b[39mdebug, loop_factory\u001b[38;5;241m=\u001b[39mloop_factory) \u001b[38;5;28;01mas\u001b[39;00m runner:\n\u001b[0;32m    195\u001b[0m     \u001b[38;5;28;01mreturn\u001b[39;00m runner\u001b[38;5;241m.\u001b[39mrun(main)\n",
      "\u001b[1;31mRuntimeError\u001b[0m: asyncio.run() cannot be called from a running event loop"
     ]
    }
   ],
   "source": [
    "# Task based parallism\n",
    "\n",
    "import asyncio\n",
    "import time\n",
    "\n",
    "async def worker(name):\n",
    "    print(f\"{name} started\")\n",
    "    await asyncio.sleep(2) #time.sleep(2)\n",
    "    print(f\"{name} end\")\n",
    "\n",
    "async def main():\n",
    "    t1 = asyncio.create_task(worker(\"Task1111\"))\n",
    "    t2 = asyncio.create_task(worker(\"Task2222\"))\n",
    "\n",
    "    await t1\n",
    "    await t2\n",
    "\n",
    "if '__main__' == __name__:\n",
    "    asyncio.run(main())\n",
    "    "
   ]
  },
  {
   "cell_type": "markdown",
   "id": "9bdb5d03-f1d8-4c2b-95cd-83038e7d71b0",
   "metadata": {},
   "source": [
    "## Thread in a sub-class"
   ]
  },
  {
   "cell_type": "code",
   "execution_count": 13,
   "id": "24c2ee02-8f73-4586-bb7c-67765601a0e6",
   "metadata": {},
   "outputs": [
    {
     "name": "stdout",
     "output_type": "stream",
     "text": [
      "MyWorkerThreadFunction => 0\n",
      "MyWorkerThreadFunction => 1\n",
      "MyWorkerThreadFunction => 2\n",
      "MyWorkerThreadFunction => 3\n",
      "MyWorkerThreadFunction => 4\n",
      "MyWorkerThreadFunction => 5\n"
     ]
    }
   ],
   "source": [
    "import threading, time\n",
    "\n",
    "class WorkerThread( threading.Thread):\n",
    "    def __init__(self, n, **kargs):\n",
    "        super().__init__( **kargs)\n",
    "        self.m_n = n\n",
    "\n",
    "    def run(self):\n",
    "        for i in range(self.m_n):\n",
    "            print(f\"{self.name} => { i}\")\n",
    "            time.sleep(0.2)\n",
    "\n",
    "if '__main__' == __name__:\n",
    "    t = WorkerThread(6, name=\"MyWorkerThreadFunction\")\n",
    "    t.start()\n",
    "    t.join()"
   ]
  },
  {
   "cell_type": "code",
   "execution_count": 16,
   "id": "ba548da4-0a82-4be5-85a6-9c45c5849621",
   "metadata": {},
   "outputs": [
    {
     "name": "stdout",
     "output_type": "stream",
     "text": [
      "Concept: RLock Threads.\n",
      "+- +- +- +- +- +- +- +- +- +- +- +- +- +- +- +- +- +- +- +- +- +- +- +- +- \n",
      " rlock acquired here!\n",
      "Re-acquired by same thread\n",
      " End\n"
     ]
    }
   ],
   "source": [
    "\n",
    "\n",
    "\n",
    "print(\"Concept: RLock Threads.\")\n",
    "print(\"+- \"*25)\n",
    "\n",
    "\n",
    "import threading, time\n",
    "\n",
    "# Note : Always bind Resource and lock together, unlike below global\n",
    "count = 0\n",
    "lock = threading.Lock()\n",
    "\n",
    "def increment(): # with Lock\n",
    "    global count\n",
    "    for _ in range(1000000):\n",
    "        with lock:\n",
    "            count += 1\n",
    "        # lock.unlock()\n",
    "\n",
    "def with_RLock(rlock):\n",
    "    with rlock:\n",
    "        print(' rlock acquired here!' )\n",
    "        with rlock:\n",
    "            print('Re-acquired by same thread')\n",
    "\n",
    "if '__main__' == __name__:\n",
    "    rlock = threading.RLock()\n",
    "\n",
    "    with_RLock(rlock)\n",
    "\n",
    "    print(\" End\")"
   ]
  },
  {
   "cell_type": "code",
   "execution_count": 17,
   "id": "ed64fbf6-c729-4463-9e52-3431fc32f1d1",
   "metadata": {},
   "outputs": [
    {
     "name": "stdout",
     "output_type": "stream",
     "text": [
      "Help on class Semaphore in module threading:\n",
      "\n",
      "class Semaphore(builtins.object)\n",
      " |  Semaphore(value=1)\n",
      " |\n",
      " |  This class implements semaphore objects.\n",
      " |\n",
      " |  Semaphores manage a counter representing the number of release() calls minus\n",
      " |  the number of acquire() calls, plus an initial value. The acquire() method\n",
      " |  blocks if necessary until it can return without making the counter\n",
      " |  negative. If not given, value defaults to 1.\n",
      " |\n",
      " |  Methods defined here:\n",
      " |\n",
      " |  __enter__ = acquire(self, blocking=True, timeout=None)\n",
      " |\n",
      " |  __exit__(self, t, v, tb)\n",
      " |\n",
      " |  __init__(self, value=1)\n",
      " |      Initialize self.  See help(type(self)) for accurate signature.\n",
      " |\n",
      " |  __repr__(self)\n",
      " |      Return repr(self).\n",
      " |\n",
      " |  acquire(self, blocking=True, timeout=None)\n",
      " |      Acquire a semaphore, decrementing the internal counter by one.\n",
      " |\n",
      " |      When invoked without arguments: if the internal counter is larger than\n",
      " |      zero on entry, decrement it by one and return immediately. If it is zero\n",
      " |      on entry, block, waiting until some other thread has called release() to\n",
      " |      make it larger than zero. This is done with proper interlocking so that\n",
      " |      if multiple acquire() calls are blocked, release() will wake exactly one\n",
      " |      of them up. The implementation may pick one at random, so the order in\n",
      " |      which blocked threads are awakened should not be relied on. There is no\n",
      " |      return value in this case.\n",
      " |\n",
      " |      When invoked with blocking set to true, do the same thing as when called\n",
      " |      without arguments, and return true.\n",
      " |\n",
      " |      When invoked with blocking set to false, do not block. If a call without\n",
      " |      an argument would block, return false immediately; otherwise, do the\n",
      " |      same thing as when called without arguments, and return true.\n",
      " |\n",
      " |      When invoked with a timeout other than None, it will block for at\n",
      " |      most timeout seconds.  If acquire does not complete successfully in\n",
      " |      that interval, return false.  Return true otherwise.\n",
      " |\n",
      " |  release(self, n=1)\n",
      " |      Release a semaphore, incrementing the internal counter by one or more.\n",
      " |\n",
      " |      When the counter is zero on entry and another thread is waiting for it\n",
      " |      to become larger than zero again, wake up that thread.\n",
      " |\n",
      " |  ----------------------------------------------------------------------\n",
      " |  Data descriptors defined here:\n",
      " |\n",
      " |  __dict__\n",
      " |      dictionary for instance variables\n",
      " |\n",
      " |  __weakref__\n",
      " |      list of weak references to the object\n",
      "\n"
     ]
    }
   ],
   "source": [
    "help(threading.Semaphore)"
   ]
  },
  {
   "cell_type": "markdown",
   "id": "b953feac-b83a-425a-9fd6-e82af3bed0c2",
   "metadata": {},
   "source": [
    "## Thread Synchronization using conditional-variables"
   ]
  },
  {
   "cell_type": "code",
   "execution_count": 20,
   "id": "7ea06d63-d144-4527-ae9d-da0b59dcc7ab",
   "metadata": {},
   "outputs": [
    {
     "name": "stdout",
     "output_type": "stream",
     "text": [
      "Concept: Thread Synchronization using conditional-variables.\n",
      "+- +- +- +- +- +- +- +- +- +- +- +- +- +- +- +- +- +- +- +- +- +- +- +- +- \n",
      "Produced: 0\n",
      "Produced: 1\n",
      "Produced: 2\n",
      "Produced: 3\n",
      "Consumed: 0\n",
      "Consumed: 1\n",
      "Consumed: 2\n",
      "Consumed: 3\n"
     ]
    }
   ],
   "source": [
    "\n",
    "\n",
    "print(\"Concept: Thread Synchronization using conditional-variables.\")\n",
    "print(\"+- \"*25)\n",
    "\n",
    "import threading, queue\n",
    "\n",
    "cond_var = threading.Condition()\n",
    "items = [] \n",
    "\n",
    "def producer():\n",
    "    for i in range(4):\n",
    "        with cond_var:\n",
    "            items.append(i)\n",
    "            print(\"Produced:\", i)\n",
    "            \n",
    "            cond_var.notify() # notifies single-thread in wait-state.\n",
    "            #cond_var.notifyall() # notifies all-threads in wait-state.\n",
    "            time.sleep(1)\n",
    "def consumer():\n",
    "    while True:\n",
    "        with cond_var:\n",
    "            while not items:\n",
    "                cond.wait()\n",
    "            item = items.pop(0)\n",
    "            \n",
    "            print(\"Consumed:\", item)\n",
    "            if item == 3: break\n",
    "def main():\n",
    "    t1 = threading.Thread(target=producer )\n",
    "    t2 = threading.Thread(target=consumer )\n",
    "    t1.start(); t2.start()\n",
    "    t1.join() \n",
    "    t2.join()\n",
    "\n",
    "if __name__ == '__main__':\n",
    "    main()\n"
   ]
  },
  {
   "cell_type": "markdown",
   "id": "4297c52a-5642-44aa-85b1-92e74236bacd",
   "metadata": {},
   "source": [
    "### multiprocessing.Pipe"
   ]
  },
  {
   "cell_type": "code",
   "execution_count": null,
   "id": "0b9cee62-9cec-466c-b97b-58f2aef59c3d",
   "metadata": {},
   "outputs": [],
   "source": [
    "from multiprocessing import Process, Pipe\n",
    "\n",
    "def sender(conn):\n",
    "    pass\n",
    "\n",
    "def receiver(conn):\n",
    "    pass\n",
    "\n",
    "if __name__ == '__main__':\n",
    "    parent_conn, child_conn = Pipe()\n",
    "\n",
    "    p1 = Process(target = sender, args = (parent_conn, ))\n",
    "    p2 = Process(target = receiver, args = (child_conn, ))\n",
    "\n",
    "    p1.start(); p2.start(); p1.join(); p2.join()"
   ]
  },
  {
   "cell_type": "code",
   "execution_count": null,
   "id": "e7ce3b27-81a9-4099-bea2-55fe5803b133",
   "metadata": {},
   "outputs": [],
   "source": []
  },
  {
   "cell_type": "code",
   "execution_count": 26,
   "id": "8bdc44f0-9aab-4b16-b1b1-253d47effd4b",
   "metadata": {},
   "outputs": [
    {
     "name": "stdout",
     "output_type": "stream",
     "text": [
      " Threading time consumption: Finished in 0.004340648651123047 seconds\n",
      " Serial time consumption: Finished in 7.689591646194458 seconds\n"
     ]
    }
   ],
   "source": [
    "import requests\n",
    "import time\n",
    "import concurrent.futures\n",
    "\n",
    "img_urls = [\n",
    "    'https://images.unsplash.com/photo-1524429656589-6633a470097c',\n",
    "    'https://images.unsplash.com/photo-1516972810927-80185027ca84',\n",
    "    'https://images.unsplash.com/photo-1516117172878-fd2c41f4a759',\n",
    "    'https://images.unsplash.com/photo-1550439062-609e1531270e',\n",
    "    'https://images.unsplash.com/photo-1532009324734-20a7a5813719',\n",
    "    'https://images.unsplash.com/photo-1516972810927-80185027ca84',\n",
    "    'https://images.unsplash.com/photo-1550439062-609e1531270e',\n",
    "    'https://images.unsplash.com/photo-1516117172878-fd2c41f4a759',\n",
    "    'https://images.unsplash.com/photo-1516972810927-80185027ca84',\n",
    "    'https://images.unsplash.com/photo-1532009324734-20a7a5813719',\n",
    "    'https://images.unsplash.com/photo-1550439062-609e1531270e',\n",
    "    'https://images.unsplash.com/photo-1532009324734-20a7a5813719',\n",
    "    'https://images.unsplash.com/photo-1516117172878-fd2c41f4a759',\n",
    "    'https://images.unsplash.com/photo-1524429656589-6633a470097c',\n",
    "    'https://images.unsplash.com/photo-1516972810927-80185027ca84',\n",
    "    'https://images.unsplash.com/photo-1516117172878-fd2c41f4a759',\n",
    "    'https://images.unsplash.com/photo-1516117172878-fd2c41f4a759',\n",
    "    'https://images.unsplash.com/photo-1550439062-609e1531270e',\n",
    "    'https://images.unsplash.com/photo-1532009324734-20a7a5813719',\n",
    "    'https://images.unsplash.com/photo-1516972810927-80185027ca84',\n",
    "    'https://images.unsplash.com/photo-1516117172878-fd2c41f4a759',\n",
    "    'https://images.unsplash.com/photo-1516972810927-80185027ca84',\n",
    "    'https://images.unsplash.com/photo-1516117172878-fd2c41f4a759',\n",
    "    'https://images.unsplash.com/photo-1550439062-609e1531270e',\n",
    "    'https://images.unsplash.com/photo-1516117172878-fd2c41f4a759',\n",
    "    'https://images.unsplash.com/photo-1516972810927-80185027ca84',\n",
    "    'https://images.unsplash.com/photo-1532009324734-20a7a5813719',\n",
    "    'https://images.unsplash.com/photo-1524429656589-6633a470097c',\n",
    "    'https://images.unsplash.com/photo-1532009324734-20a7a5813719',\n",
    "    'https://images.unsplash.com/photo-1516972810927-80185027ca84',\n",
    "    'https://images.unsplash.com/photo-1550439062-609e1531270e',\n",
    "    'https://images.unsplash.com/photo-1549692520-acc6669e2f0c'\n",
    "]\n",
    "\n",
    "\n",
    "def download_images( img_uri):\n",
    "    img_bytes = requests.get(img_uri).content\n",
    "    img_name = img_uri.split('/')[3]\n",
    "    img_name = img_name + \".jpg\"\n",
    "\n",
    "    with open(img_name, \"wb\") as img_file:\n",
    "        img_file.write(img_bytes)\n",
    "        \n",
    "\n",
    "def main():\n",
    "    #t1 = time.perf_counter() # Use ThreadPoolExecutor()\n",
    "    t1 = time.time()\n",
    "    executor = concurrent.futures.ThreadPoolExecutor(max_workers=3)\n",
    "    result = executor.map(download_images, img_urls)\n",
    "    t2 = time.time() #perf_counter()\n",
    "\n",
    "    print(f' Threading time consumption: Finished in {t2-t1} seconds')\n",
    "\n",
    "\n",
    "    # Single\n",
    "    t1 = time.time() #perf_counter()\n",
    "    for img_uri in img_urls:\n",
    "        download_images(img_uri)\n",
    "        \n",
    "    t2 = time.time() #perf_counter()\n",
    "    print(f' Serial time consumption: Finished in {t2-t1} seconds')\n",
    "\n",
    "    \n",
    "\n",
    "if __name__ == '__main__':\n",
    "    main()"
   ]
  },
  {
   "cell_type": "code",
   "execution_count": null,
   "id": "29f82558-ff43-4951-9cb6-c820c602abda",
   "metadata": {},
   "outputs": [],
   "source": []
  },
  {
   "cell_type": "code",
   "execution_count": null,
   "id": "e775e9b8-5cbe-4049-ac5f-f7a2bb971c71",
   "metadata": {},
   "outputs": [],
   "source": []
  },
  {
   "cell_type": "code",
   "execution_count": null,
   "id": "75b277d7-85c7-4c9c-bccc-394c51a9de35",
   "metadata": {},
   "outputs": [],
   "source": []
  },
  {
   "cell_type": "code",
   "execution_count": null,
   "id": "0811782e-3809-48c6-83a4-02aec3f549d3",
   "metadata": {},
   "outputs": [],
   "source": []
  },
  {
   "cell_type": "code",
   "execution_count": null,
   "id": "8b4c07ee-c695-4d26-b8ae-a903b4f727b2",
   "metadata": {},
   "outputs": [],
   "source": []
  },
  {
   "cell_type": "code",
   "execution_count": null,
   "id": "7fe60f2e-c6fa-4cbf-8067-806c6add0576",
   "metadata": {},
   "outputs": [],
   "source": []
  },
  {
   "cell_type": "code",
   "execution_count": null,
   "id": "c513153e-a63f-4803-8ef2-7c892ea4daf3",
   "metadata": {},
   "outputs": [],
   "source": []
  },
  {
   "cell_type": "code",
   "execution_count": null,
   "id": "18e50ea3-fa05-4d11-8ba1-33902691bbb5",
   "metadata": {},
   "outputs": [],
   "source": []
  },
  {
   "cell_type": "code",
   "execution_count": null,
   "id": "a452bd2d-e391-4ff9-9d4d-1b81fbeb7b42",
   "metadata": {},
   "outputs": [],
   "source": []
  },
  {
   "cell_type": "code",
   "execution_count": null,
   "id": "43e933ce-8725-4a37-a2a5-ca9e76dd0b3c",
   "metadata": {},
   "outputs": [],
   "source": []
  },
  {
   "cell_type": "code",
   "execution_count": null,
   "id": "01c3a5f7-8ad4-4cb2-816e-819e384af65f",
   "metadata": {},
   "outputs": [],
   "source": []
  },
  {
   "cell_type": "code",
   "execution_count": null,
   "id": "fe9ce6a4-c877-4da5-b8a0-61c95fa69ac5",
   "metadata": {},
   "outputs": [],
   "source": []
  }
 ],
 "metadata": {
  "kernelspec": {
   "display_name": "Python [conda env:base] *",
   "language": "python",
   "name": "conda-base-py"
  },
  "language_info": {
   "codemirror_mode": {
    "name": "ipython",
    "version": 3
   },
   "file_extension": ".py",
   "mimetype": "text/x-python",
   "name": "python",
   "nbconvert_exporter": "python",
   "pygments_lexer": "ipython3",
   "version": "3.13.5"
  }
 },
 "nbformat": 4,
 "nbformat_minor": 5
}
