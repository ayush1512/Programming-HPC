{
 "cells": [
  {
   "cell_type": "markdown",
   "id": "3f9ae2d5-0e18-4054-86f7-2571cd736123",
   "metadata": {},
   "source": [
    "# Data-Communication between threads "
   ]
  },
  {
   "cell_type": "code",
   "execution_count": 4,
   "id": "5a2ed492-871c-412b-a74e-7a01890c546e",
   "metadata": {},
   "outputs": [
    {
     "name": "stdout",
     "output_type": "stream",
     "text": [
      " Producing data 0\n",
      "Consumed data-element 0\n",
      "Main thread: waiting for threads to complete\n",
      " Producing data 1\n",
      "Consumed data-element 1\n",
      " Producing data 2\n",
      "Consumed data-element 2\n",
      " Producing data 3\n",
      "Consumed data-element 3\n",
      " Producing data 4\n",
      "Consumed data-element 4\n",
      " Producing data 5\n",
      "Consumed data-element 5\n",
      " Producing data 6\n",
      "Consumed data-element 6\n",
      " Producing data 7\n",
      "Consumed data-element 7\n",
      " Producing data 8\n",
      "Consumed data-element 8\n",
      " Producing data 9\n",
      "Consumed data-element 9\n"
     ]
    }
   ],
   "source": [
    "# Communicate Data between Threads\n",
    "'''\n",
    "Using :\n",
    " - Globals (Data-race-controllers: Locks => thread.Lock(), thread.RLock())\n",
    " - Data-Structures Queue, Pipe's ...\n",
    " - between processess : IPC (OS) => Pipe, Message-Queue's, Shared-memory\n",
    "'''\n",
    "\n",
    "from queue import Queue\n",
    "from threading import Thread\n",
    "import time\n",
    "\n",
    "def Producer(q):\n",
    "    for i in range(10):\n",
    "        print(f' Producing data {i}')\n",
    "        q.put(i)\n",
    "        time.sleep(1)\n",
    "\n",
    "def Consumer(q):\n",
    "    while True:\n",
    "        data_element = q.get()\n",
    "        if data_element == None:\n",
    "            break\n",
    "        print(f'Consumed data-element { data_element}')\n",
    "        q.task_done() #?\n",
    "        \n",
    "\n",
    "### App ###\n",
    "def main():\n",
    "    q = Queue()\n",
    "    t1 = Thread(target=Producer, args=(q, ))\n",
    "    t2 = Thread(target=Consumer, args=(q, ))\n",
    "\n",
    "    t1.start()\n",
    "    t2.start()\n",
    "\n",
    "    print(\"Main thread: waiting for threads to complete\")\n",
    "    t1.join()\n",
    "    q.put(None) # Signaling Consumer to stop/complete\n",
    "    t2.join()\n",
    "\n",
    "if __name__ == '__main__':\n",
    "    main()"
   ]
  },
  {
   "cell_type": "code",
   "execution_count": 5,
   "id": "e668ea61-95a3-4655-a6ea-f4c373085f44",
   "metadata": {},
   "outputs": [
    {
     "name": "stdout",
     "output_type": "stream",
     "text": [
      "Task 1 started\n",
      "Task 2 started\n",
      "Task 3 started\n",
      "Task 4 started\n",
      " doJob (2)\n",
      "Task 2 end\n",
      "Task 5 started\n",
      " doJob (3)\n",
      "Task 3 end\n",
      "Task 6 started\n",
      " doJob (4)\n",
      "Task 4 end\n",
      " doJob (1)\n",
      "Task 1 end\n",
      " doJob (6)\n",
      "Task 6 end\n",
      " doJob (5)\n",
      "Task 5 end\n",
      " Result of task_worker(1)\n",
      " Result of task_worker(2)\n",
      " Result of task_worker(3)\n",
      " Result of task_worker(4)\n",
      " Result of task_worker(5)\n",
      " Result of task_worker(6)\n"
     ]
    }
   ],
   "source": [
    "# Creating Pool of threads (worker-thread-pool) and working on different sets of data.\n",
    "\n",
    "from concurrent.futures import ThreadPoolExecutor\n",
    "import time\n",
    "\n",
    "def task_worker(n):\n",
    "    print(f'Task {n} started')\n",
    "    time.sleep(2)\n",
    "    print(f' doJob ({n})')\n",
    "    print(f'Task {n} end')\n",
    "    return \" Result of task_worker(\" + str(n) + \")\"\n",
    "\n",
    "#####################3\n",
    "def main():\n",
    "    with ThreadPoolExecutor(max_workers = 4) as executor:\n",
    "        results = executor.map(task_worker, [1,2,3,4,5,6])\n",
    "\n",
    "    for result in results:\n",
    "        print(result)\n",
    "\n",
    "\n",
    "if __name__ == '__main__':\n",
    "    main()"
   ]
  },
  {
   "cell_type": "markdown",
   "id": "af7aa816-9819-4ea0-be8f-d6c4efa6ed41",
   "metadata": {},
   "source": [
    "## Notes:\n",
    "    4 Categories:\n",
    "    1. SISD (Single instruction, Single Data)\n",
    "        - One processor, one instruction on one piece of data.\n",
    "        Ex: Traditional computers.\n",
    "    2. MISD (Multiple Instruction, Single Data)\n",
    "        - Multiple processors execute different instructions (functionalities) on same-data.\n",
    "        Ex: fault-tolerant, state-machines, finite-automata kind of systems/computers\n",
    "    3. SIMD (Single Instruction, Multiple Data)\n",
    "        - One instruction operators on multiple data points simultaneously.\n",
    "        Ex: GPU's ( In one-clock-cycle execute same operation on large-datasets }\n",
    "    4. MIMD (Multiple Instruction, Multiple Data)\n",
    "        - Multiple processors running different instructions on different data-sets.\n",
    "        Ex: Multi-core CPU's ( / GPU's) distributed systems ( using cluster and grid kind of controlled Data-Structures and algorithms)"
   ]
  },
  {
   "cell_type": "code",
   "execution_count": null,
   "id": "79ba2902-d1e2-498a-8d67-6af93eaa32ff",
   "metadata": {},
   "outputs": [],
   "source": []
  },
  {
   "cell_type": "code",
   "execution_count": null,
   "id": "0db92fb2-b0b0-45b9-935c-de23698268c6",
   "metadata": {},
   "outputs": [],
   "source": []
  },
  {
   "cell_type": "code",
   "execution_count": null,
   "id": "ae5fe245-7e47-4850-a3ee-87b84fb0dd80",
   "metadata": {},
   "outputs": [],
   "source": []
  }
 ],
 "metadata": {
  "kernelspec": {
   "display_name": "Python [conda env:base] *",
   "language": "python",
   "name": "conda-base-py"
  },
  "language_info": {
   "codemirror_mode": {
    "name": "ipython",
    "version": 3
   },
   "file_extension": ".py",
   "mimetype": "text/x-python",
   "name": "python",
   "nbconvert_exporter": "python",
   "pygments_lexer": "ipython3",
   "version": "3.13.5"
  }
 },
 "nbformat": 4,
 "nbformat_minor": 5
}
