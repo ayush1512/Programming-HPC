{
 "cells": [
  {
   "cell_type": "markdown",
   "id": "03375b01",
   "metadata": {},
   "source": [
    "# Agenda:\n",
    "    - Hardware\n",
    "    - Abstraction\n",
    "    - GIL\n",
    "    - LEGB Rule / scoped-based\n",
    "    - co-routines\n",
    "    - decorators\n",
    "    \n",
    "    - Intro towards Parallel-programming(hardware & packages)\n",
    "    - MultiThreading.\n",
    "    - Multiprocessing.\n",
    "    - File-handling and serializing"
   ]
  },
  {
   "cell_type": "markdown",
   "id": "c191b539",
   "metadata": {},
   "source": [
    "### Process-Segments:\n",
    "     Main-Thread :\n",
    "    - Code-segment\n",
    "        - functions <instructions>\n",
    "    - Data-Segment\n",
    "        - Global/Builtins\n",
    "    - Kernel-Stack (managed by OS)\n",
    "        - context-switching\n",
    "    - PCB(managed by OS)\n",
    "        - State of the process\n",
    "    - User-Stack\n",
    "        - Symbol/Scope-tables\n",
    "    - Heap / free-store\n",
    "        - Data\n",
    "\n",
    "        Child-Threads(LWP <Light-Weight-Process>): Each child-thread shares parent segments => Code, Data, Heap\n",
    "            TLS (Thread-Local-Storage) :-\n",
    "                - user-Stack\n",
    "                    - Symbol/Scope-tables\n",
    "                - Kernel-Stack (managed by OS)\n",
    "                    - thread-specific-context-switching\n",
    "                - reserved-registers (specific to thread)\n",
    "                - TCB (Thread-Control-Block)\n"
   ]
  },
  {
   "cell_type": "code",
   "execution_count": 1,
   "id": "56e4b00c",
   "metadata": {},
   "outputs": [
    {
     "name": "stdout",
     "output_type": "stream",
     "text": [
      " gun1111\n",
      "+- +- +- +- +- +- +- +- +- +- +- +- +- +- +- +- +- +- +- +- +- +- +- +- +- \n",
      " gun2222\n"
     ]
    }
   ],
   "source": [
    "'''\n",
    "# Python: \n",
    "    - line-by-line Interpreter\n",
    "    - top-down\n",
    "    - dynamic-language\n",
    "    - scope-based (GIL) and follows-LEGB-Rules\n",
    "'''\n",
    "\n",
    "'''\n",
    "locking machanism at interpreter-level => GIL\n",
    "\n",
    "GIL = lock() # Global-builtin-lock\n",
    "\n",
    "'''\n",
    "\n",
    "def gfun1():\n",
    "    # acquire GIL & lock-it\n",
    "    print(' gun1111')\n",
    "    # Release acquired GIL & un-lock-it\n",
    "\n",
    "def gfun2():\n",
    "    # acquire GIL & lock-it\n",
    "    print(' gun2222')\n",
    "    # Release acquired GIL & un-lock-it\n",
    "    \n",
    "def main():\n",
    "    # acquire GIL & lock-it\n",
    "    \n",
    "    # unlock-GIL & make a call to gfun1\n",
    "    gfun1()\n",
    "    # lock-GIL & continue\n",
    "    print(\"+- \"*25)\n",
    "    \n",
    "    # unlock-GIL & make a call to gfun2\n",
    "    gfun2()\n",
    "    # lock-GIL & continue main-function...\n",
    "    \n",
    "    \n",
    "    # release acquired GIL & un-lock-it\n",
    "    \n",
    "main()\n",
    "\n"
   ]
  },
  {
   "cell_type": "markdown",
   "id": "42e9c5cd",
   "metadata": {},
   "source": [
    "# LEGB Rule"
   ]
  },
  {
   "cell_type": "code",
   "execution_count": 2,
   "id": "f6bb8f7f",
   "metadata": {},
   "outputs": [
    {
     "name": "stdout",
     "output_type": "stream",
     "text": [
      "+- +- +- +- +- +- +- +- +- +- +- +- +- +- +- +- +- +- +- +- +- +- +- +- +- \n",
      " Main: gi = 10, id(gi) = 1952445065808\n",
      " .. Outer: gi = 10, id(gi) = 1952445065808\n",
      "- - - - - - - - - - - - - - - \n",
      " .. Outer..Inner: gi = 10, id(gi) = 1952445065808\n",
      "- - - - - - - - - - - - - - - \n",
      " .. Outer: gi = 10, id(gi) = 1952445065808\n",
      " Main: gi = 10, id(gi) = 1952445065808\n",
      "+- +- +- +- +- +- +- +- +- +- +- +- +- +- +- +- +- +- +- +- +- +- +- +- +- \n"
     ]
    }
   ],
   "source": [
    "# LEGB Rule\n",
    "\n",
    "gi = 10\n",
    "\n",
    "def Outer():\n",
    "    print(f\" .. Outer: gi = {gi}, id(gi) = {id(gi)}\")\n",
    "    print(\"- \"*15)\n",
    "    def Inner():\n",
    "        print(f\" .. Outer..Inner: gi = {gi}, id(gi) = {id(gi)}\")\n",
    "        \n",
    "    Inner()\n",
    "    print(\"- \"*15)\n",
    "    print(f\" .. Outer: gi = {gi}, id(gi) = {id(gi)}\")\n",
    "    \n",
    "print(\"+- \"*25)\n",
    "print(f\" Main: gi = {gi}, id(gi) = {id(gi)}\")\n",
    "Outer()\n",
    "print(f\" Main: gi = {gi}, id(gi) = {id(gi)}\")\n",
    "\n",
    "print(\"+- \"*25)\n",
    "    "
   ]
  },
  {
   "cell_type": "code",
   "execution_count": 3,
   "id": "93005f1d",
   "metadata": {},
   "outputs": [],
   "source": [
    "# LEGB Rule\n",
    "# L(ocal) => E(nclosed) => G(lobal) => B(uiltins) => raise NameError()\n"
   ]
  },
  {
   "cell_type": "code",
   "execution_count": 5,
   "id": "bf2be45f",
   "metadata": {},
   "outputs": [
    {
     "name": "stdout",
     "output_type": "stream",
     "text": [
      "+- +- +- +- +- +- +- +- +- +- +- +- +- +- +- +- +- +- +- +- +- +- +- +- +- \n",
      " Main: gi = 10, id(gi) = 1952445065808\n",
      " .. Outer: gi = 15, id(gi) = 1952445065968\n",
      "- - - - - - - - - - - - - - - \n",
      " .. Outer..Inner: gi = 15, id(gi) = 1952445065968\n",
      "- - - - - - - - - - - - - - - \n",
      " .. Outer: gi = 15, id(gi) = 1952445065968\n",
      " Main: gi = 10, id(gi) = 1952445065808\n",
      "+- +- +- +- +- +- +- +- +- +- +- +- +- +- +- +- +- +- +- +- +- +- +- +- +- \n",
      " Expected: output: 10, 15, 15, 15, 10\n"
     ]
    }
   ],
   "source": [
    "# LEGB Rule\n",
    "\n",
    "gi = 10\n",
    "\n",
    "def Outer():\n",
    "    gi = 15\n",
    "    print(f\" .. Outer: gi = {gi}, id(gi) = {id(gi)}\")\n",
    "    print(\"- \"*15)\n",
    "    def Inner():\n",
    "        print(f\" .. Outer..Inner: gi = {gi}, id(gi) = {id(gi)}\")\n",
    "        \n",
    "    Inner()\n",
    "    print(\"- \"*15)\n",
    "    print(f\" .. Outer: gi = {gi}, id(gi) = {id(gi)}\")\n",
    "    # del(local-symbol-table)\n",
    "    # return None\n",
    "    \n",
    "print(\"+- \"*25)\n",
    "print(f\" Main: gi = {gi}, id(gi) = {id(gi)}\")\n",
    "Outer()\n",
    "print(f\" Main: gi = {gi}, id(gi) = {id(gi)}\")\n",
    "\n",
    "print(\"+- \"*25)\n",
    "print(\" Expected: output: 10, 15, 15, 15, 10\")"
   ]
  },
  {
   "cell_type": "code",
   "execution_count": 6,
   "id": "2fd15cb6",
   "metadata": {},
   "outputs": [
    {
     "name": "stdout",
     "output_type": "stream",
     "text": [
      "+- +- +- +- +- +- +- +- +- +- +- +- +- +- +- +- +- +- +- +- +- +- +- +- +- \n",
      " Main: gi = 10, id(gi) = 1952445065808\n",
      " .. Outer: gi = 15, id(gi) = 1952445065968\n",
      "- - - - - - - - - - - - - - - \n",
      " .. Outer..Inner: gi = 20, id(gi) = 1952445066128\n",
      "- - - - - - - - - - - - - - - \n",
      " .. Outer: gi = 15, id(gi) = 1952445065968\n",
      " Main: gi = 10, id(gi) = 1952445065808\n",
      "+- +- +- +- +- +- +- +- +- +- +- +- +- +- +- +- +- +- +- +- +- +- +- +- +- \n",
      " Expected: output: 10, 15, 20, 15, 10\n"
     ]
    }
   ],
   "source": [
    "# LEGB Rule\n",
    "\n",
    "gi = 10\n",
    "\n",
    "def Outer():\n",
    "    gi = 15\n",
    "    print(f\" .. Outer: gi = {gi}, id(gi) = {id(gi)}\")\n",
    "    print(\"- \"*15)\n",
    "    def Inner():\n",
    "        gi = 20\n",
    "        print(f\" .. Outer..Inner: gi = {gi}, id(gi) = {id(gi)}\")\n",
    "        \n",
    "    Inner()\n",
    "    print(\"- \"*15)\n",
    "    print(f\" .. Outer: gi = {gi}, id(gi) = {id(gi)}\")\n",
    "    # del(local-symbol-table)\n",
    "    # return None\n",
    "    \n",
    "print(\"+- \"*25)\n",
    "print(f\" Main: gi = {gi}, id(gi) = {id(gi)}\")\n",
    "Outer()\n",
    "print(f\" Main: gi = {gi}, id(gi) = {id(gi)}\")\n",
    "\n",
    "print(\"+- \"*25)\n",
    "print(\" Expected: output: 10, 15, 20, 15, 10\")"
   ]
  },
  {
   "cell_type": "code",
   "execution_count": 7,
   "id": "269d0b8b",
   "metadata": {},
   "outputs": [
    {
     "name": "stdout",
     "output_type": "stream",
     "text": [
      "+- +- +- +- +- +- +- +- +- +- +- +- +- +- +- +- +- +- +- +- +- +- +- +- +- \n",
      " Main: gi = 10, id(gi) = 1952445065808\n",
      " .. Outer: gi = 15, id(gi) = 1952445065968\n",
      "- - - - - - - - - - - - - - - \n",
      " .. Outer..Inner: gi = 20, id(gi) = 1952445066128\n",
      "- - - - - - - - - - - - - - - \n",
      " .. Outer: gi = 15, id(gi) = 1952445065968\n",
      " Main: gi = 20, id(gi) = 1952445066128\n",
      "+- +- +- +- +- +- +- +- +- +- +- +- +- +- +- +- +- +- +- +- +- +- +- +- +- \n",
      " Expected: output: 10, 15, 20, 15, 20\n"
     ]
    }
   ],
   "source": [
    "# LEGB Rule\n",
    "\n",
    "gi = 10\n",
    "\n",
    "def Outer():\n",
    "    gi = 15\n",
    "    print(f\" .. Outer: gi = {gi}, id(gi) = {id(gi)}\")\n",
    "    print(\"- \"*15)\n",
    "    def Inner():\n",
    "        global gi\n",
    "        gi = 20\n",
    "        print(f\" .. Outer..Inner: gi = {gi}, id(gi) = {id(gi)}\")\n",
    "        \n",
    "    Inner()\n",
    "    print(\"- \"*15)\n",
    "    print(f\" .. Outer: gi = {gi}, id(gi) = {id(gi)}\")\n",
    "    # del(local-symbol-table)\n",
    "    # return None\n",
    "    \n",
    "print(\"+- \"*25)\n",
    "print(f\" Main: gi = {gi}, id(gi) = {id(gi)}\")\n",
    "Outer()\n",
    "print(f\" Main: gi = {gi}, id(gi) = {id(gi)}\")\n",
    "\n",
    "print(\"+- \"*25)\n",
    "print(\" Expected: output: 10, 15, 20, 15, 20\")"
   ]
  },
  {
   "cell_type": "code",
   "execution_count": 8,
   "id": "39b3a110",
   "metadata": {},
   "outputs": [
    {
     "name": "stdout",
     "output_type": "stream",
     "text": [
      "+- +- +- +- +- +- +- +- +- +- +- +- +- +- +- +- +- +- +- +- +- +- +- +- +- \n",
      " Main: gi = 10, id(gi) = 1952445065808\n",
      " .. Outer: gi = 15, id(gi) = 1952445065968\n",
      "- - - - - - - - - - - - - - - \n",
      " .. Outer..Inner: gi = 20, id(gi) = 1952445066128\n",
      "- - - - - - - - - - - - - - - \n",
      " .. Outer: gi = 20, id(gi) = 1952445066128\n",
      " Main: gi = 10, id(gi) = 1952445065808\n",
      "+- +- +- +- +- +- +- +- +- +- +- +- +- +- +- +- +- +- +- +- +- +- +- +- +- \n",
      " Expected: output: 10, 15, 20, 20, 10\n"
     ]
    }
   ],
   "source": [
    "# LEGB Rule\n",
    "\n",
    "gi = 10\n",
    "\n",
    "def Outer():\n",
    "    gi = 15\n",
    "    print(f\" .. Outer: gi = {gi}, id(gi) = {id(gi)}\")\n",
    "    print(\"- \"*15)\n",
    "    def Inner():\n",
    "        #global gi\n",
    "        nonlocal gi\n",
    "        gi = 20\n",
    "        print(f\" .. Outer..Inner: gi = {gi}, id(gi) = {id(gi)}\")\n",
    "        \n",
    "    Inner()\n",
    "    print(\"- \"*15)\n",
    "    print(f\" .. Outer: gi = {gi}, id(gi) = {id(gi)}\")\n",
    "    # del(local-symbol-table)\n",
    "    # return None\n",
    "    \n",
    "print(\"+- \"*25)\n",
    "print(f\" Main: gi = {gi}, id(gi) = {id(gi)}\")\n",
    "Outer()\n",
    "print(f\" Main: gi = {gi}, id(gi) = {id(gi)}\")\n",
    "\n",
    "print(\"+- \"*25)\n",
    "print(\" Expected: output: 10, 15, 20, 20, 10\")"
   ]
  },
  {
   "cell_type": "code",
   "execution_count": 9,
   "id": "2a4f9350",
   "metadata": {},
   "outputs": [],
   "source": [
    "import _thread"
   ]
  },
  {
   "cell_type": "code",
   "execution_count": 11,
   "id": "75631446",
   "metadata": {},
   "outputs": [],
   "source": [
    "import threading"
   ]
  },
  {
   "cell_type": "code",
   "execution_count": 12,
   "id": "dd93948a",
   "metadata": {},
   "outputs": [
    {
     "data": {
      "text/plain": [
       "['Barrier',\n",
       " 'BoundedSemaphore',\n",
       " 'BrokenBarrierError',\n",
       " 'Condition',\n",
       " 'Event',\n",
       " 'ExceptHookArgs',\n",
       " 'Lock',\n",
       " 'RLock',\n",
       " 'Semaphore',\n",
       " 'TIMEOUT_MAX',\n",
       " 'Thread',\n",
       " 'ThreadError',\n",
       " 'Timer',\n",
       " 'WeakSet',\n",
       " '_CRLock',\n",
       " '_DummyThread',\n",
       " '_HAVE_THREAD_NATIVE_ID',\n",
       " '_MainThread',\n",
       " '_PyRLock',\n",
       " '_RLock',\n",
       " '_SHUTTING_DOWN',\n",
       " '__all__',\n",
       " '__builtins__',\n",
       " '__cached__',\n",
       " '__doc__',\n",
       " '__file__',\n",
       " '__loader__',\n",
       " '__name__',\n",
       " '__package__',\n",
       " '__spec__',\n",
       " '_active',\n",
       " '_active_limbo_lock',\n",
       " '_after_fork',\n",
       " '_allocate_lock',\n",
       " '_count',\n",
       " '_counter',\n",
       " '_dangling',\n",
       " '_deque',\n",
       " '_enumerate',\n",
       " '_islice',\n",
       " '_limbo',\n",
       " '_main_thread',\n",
       " '_maintain_shutdown_locks',\n",
       " '_make_invoke_excepthook',\n",
       " '_newname',\n",
       " '_os',\n",
       " '_profile_hook',\n",
       " '_register_atexit',\n",
       " '_set_sentinel',\n",
       " '_shutdown',\n",
       " '_shutdown_locks',\n",
       " '_shutdown_locks_lock',\n",
       " '_start_new_thread',\n",
       " '_sys',\n",
       " '_threading_atexits',\n",
       " '_time',\n",
       " '_trace_hook',\n",
       " 'activeCount',\n",
       " 'active_count',\n",
       " 'currentThread',\n",
       " 'current_thread',\n",
       " 'enumerate',\n",
       " 'excepthook',\n",
       " 'functools',\n",
       " 'get_ident',\n",
       " 'get_native_id',\n",
       " 'local',\n",
       " 'main_thread',\n",
       " 'setprofile',\n",
       " 'settrace',\n",
       " 'stack_size']"
      ]
     },
     "execution_count": 12,
     "metadata": {},
     "output_type": "execute_result"
    }
   ],
   "source": [
    "dir(threading)"
   ]
  },
  {
   "cell_type": "code",
   "execution_count": 13,
   "id": "657c1886",
   "metadata": {},
   "outputs": [
    {
     "name": "stdout",
     "output_type": "stream",
     "text": [
      "Help on class Thread in module threading:\n",
      "\n",
      "class Thread(builtins.object)\n",
      " |  Thread(group=None, target=None, name=None, args=(), kwargs=None, *, daemon=None)\n",
      " |  \n",
      " |  A class that represents a thread of control.\n",
      " |  \n",
      " |  This class can be safely subclassed in a limited fashion. There are two ways\n",
      " |  to specify the activity: by passing a callable object to the constructor, or\n",
      " |  by overriding the run() method in a subclass.\n",
      " |  \n",
      " |  Methods defined here:\n",
      " |  \n",
      " |  __init__(self, group=None, target=None, name=None, args=(), kwargs=None, *, daemon=None)\n",
      " |      This constructor should always be called with keyword arguments. Arguments are:\n",
      " |      \n",
      " |      *group* should be None; reserved for future extension when a ThreadGroup\n",
      " |      class is implemented.\n",
      " |      \n",
      " |      *target* is the callable object to be invoked by the run()\n",
      " |      method. Defaults to None, meaning nothing is called.\n",
      " |      \n",
      " |      *name* is the thread name. By default, a unique name is constructed of\n",
      " |      the form \"Thread-N\" where N is a small decimal number.\n",
      " |      \n",
      " |      *args* is the argument tuple for the target invocation. Defaults to ().\n",
      " |      \n",
      " |      *kwargs* is a dictionary of keyword arguments for the target\n",
      " |      invocation. Defaults to {}.\n",
      " |      \n",
      " |      If a subclass overrides the constructor, it must make sure to invoke\n",
      " |      the base class constructor (Thread.__init__()) before doing anything\n",
      " |      else to the thread.\n",
      " |  \n",
      " |  __repr__(self)\n",
      " |      Return repr(self).\n",
      " |  \n",
      " |  getName(self)\n",
      " |  \n",
      " |  isDaemon(self)\n",
      " |  \n",
      " |  is_alive(self)\n",
      " |      Return whether the thread is alive.\n",
      " |      \n",
      " |      This method returns True just before the run() method starts until just\n",
      " |      after the run() method terminates. See also the module function\n",
      " |      enumerate().\n",
      " |  \n",
      " |  join(self, timeout=None)\n",
      " |      Wait until the thread terminates.\n",
      " |      \n",
      " |      This blocks the calling thread until the thread whose join() method is\n",
      " |      called terminates -- either normally or through an unhandled exception\n",
      " |      or until the optional timeout occurs.\n",
      " |      \n",
      " |      When the timeout argument is present and not None, it should be a\n",
      " |      floating point number specifying a timeout for the operation in seconds\n",
      " |      (or fractions thereof). As join() always returns None, you must call\n",
      " |      is_alive() after join() to decide whether a timeout happened -- if the\n",
      " |      thread is still alive, the join() call timed out.\n",
      " |      \n",
      " |      When the timeout argument is not present or None, the operation will\n",
      " |      block until the thread terminates.\n",
      " |      \n",
      " |      A thread can be join()ed many times.\n",
      " |      \n",
      " |      join() raises a RuntimeError if an attempt is made to join the current\n",
      " |      thread as that would cause a deadlock. It is also an error to join() a\n",
      " |      thread before it has been started and attempts to do so raises the same\n",
      " |      exception.\n",
      " |  \n",
      " |  run(self)\n",
      " |      Method representing the thread's activity.\n",
      " |      \n",
      " |      You may override this method in a subclass. The standard run() method\n",
      " |      invokes the callable object passed to the object's constructor as the\n",
      " |      target argument, if any, with sequential and keyword arguments taken\n",
      " |      from the args and kwargs arguments, respectively.\n",
      " |  \n",
      " |  setDaemon(self, daemonic)\n",
      " |  \n",
      " |  setName(self, name)\n",
      " |  \n",
      " |  start(self)\n",
      " |      Start the thread's activity.\n",
      " |      \n",
      " |      It must be called at most once per thread object. It arranges for the\n",
      " |      object's run() method to be invoked in a separate thread of control.\n",
      " |      \n",
      " |      This method will raise a RuntimeError if called more than once on the\n",
      " |      same thread object.\n",
      " |  \n",
      " |  ----------------------------------------------------------------------\n",
      " |  Readonly properties defined here:\n",
      " |  \n",
      " |  ident\n",
      " |      Thread identifier of this thread or None if it has not been started.\n",
      " |      \n",
      " |      This is a nonzero integer. See the get_ident() function. Thread\n",
      " |      identifiers may be recycled when a thread exits and another thread is\n",
      " |      created. The identifier is available even after the thread has exited.\n",
      " |  \n",
      " |  native_id\n",
      " |      Native integral thread ID of this thread, or None if it has not been started.\n",
      " |      \n",
      " |      This is a non-negative integer. See the get_native_id() function.\n",
      " |      This represents the Thread ID as reported by the kernel.\n",
      " |  \n",
      " |  ----------------------------------------------------------------------\n",
      " |  Data descriptors defined here:\n",
      " |  \n",
      " |  __dict__\n",
      " |      dictionary for instance variables (if defined)\n",
      " |  \n",
      " |  __weakref__\n",
      " |      list of weak references to the object (if defined)\n",
      " |  \n",
      " |  daemon\n",
      " |      A boolean value indicating whether this thread is a daemon thread.\n",
      " |      \n",
      " |      This must be set before start() is called, otherwise RuntimeError is\n",
      " |      raised. Its initial value is inherited from the creating thread; the\n",
      " |      main thread is not a daemon thread and therefore all threads created in\n",
      " |      the main thread default to daemon = False.\n",
      " |      \n",
      " |      The entire Python program exits when only daemon threads are left.\n",
      " |  \n",
      " |  name\n",
      " |      A string used for identification purposes only.\n",
      " |      \n",
      " |      It has no semantics. Multiple threads may be given the same name. The\n",
      " |      initial name is set by the constructor.\n",
      "\n"
     ]
    }
   ],
   "source": [
    "help(threading.Thread)"
   ]
  },
  {
   "cell_type": "code",
   "execution_count": 15,
   "id": "75980773",
   "metadata": {},
   "outputs": [
    {
     "name": "stdout",
     "output_type": "stream",
     "text": [
      "Help on function current_thread in module threading:\n",
      "\n",
      "current_thread()\n",
      "    Return the current Thread object, corresponding to the caller's thread of control.\n",
      "    \n",
      "    If the caller's thread of control was not created through the threading\n",
      "    module, a dummy thread object with limited functionality is returned.\n",
      "\n"
     ]
    }
   ],
   "source": [
    "help(threading.currentThread)"
   ]
  },
  {
   "cell_type": "code",
   "execution_count": 16,
   "id": "65d318e1",
   "metadata": {},
   "outputs": [
    {
     "name": "stdout",
     "output_type": "stream",
     "text": [
      "Help on function current_thread in module threading:\n",
      "\n",
      "current_thread()\n",
      "    Return the current Thread object, corresponding to the caller's thread of control.\n",
      "    \n",
      "    If the caller's thread of control was not created through the threading\n",
      "    module, a dummy thread object with limited functionality is returned.\n",
      "\n"
     ]
    }
   ],
   "source": [
    "help(threading.current_thread)"
   ]
  },
  {
   "cell_type": "code",
   "execution_count": 14,
   "id": "2cc6a6d2",
   "metadata": {},
   "outputs": [
    {
     "name": "stdout",
     "output_type": "stream",
     "text": [
      " Main-thread - starts \n",
      "t1 =  <Thread(Thread-8, initial)>\n",
      " Main-thread - ends \n"
     ]
    }
   ],
   "source": [
    "\n",
    "### Child-thread-functions\n",
    "def child1_fun1():\n",
    "    print('def child1_fun1() invoked...')\n",
    "\n",
    "### Main-thread-app ###\n",
    "def main():\n",
    "    print(\" Main-thread - starts \")\n",
    "    t1 = threading.Thread(target=child1_fun1 )\n",
    "    print('t1 = ', t1)\n",
    "\n",
    "    print(\" Main-thread - ends \")\n",
    "    \n",
    "if __name__ == '__main__':\n",
    "    main()"
   ]
  },
  {
   "cell_type": "code",
   "execution_count": 21,
   "id": "68c03e29",
   "metadata": {},
   "outputs": [
    {
     "name": "stdout",
     "output_type": "stream",
     "text": [
      " Main-thread - starts \n",
      "t1 =  <Thread(Thread-13, initial)>\n",
      "def child1_fun1() invoked... started:::::\n",
      "+- +- +- +- +- +- +- +- +- +- +- +- +- +- +- +- +- +- +- +- +- +- +- +- +- \n",
      "def child1_fun1() invoked...ended:::::\n",
      " Main-thread - ends \n"
     ]
    }
   ],
   "source": [
    "import time\n",
    "\n",
    "### Child-thread-functions\n",
    "def child1_fun1():\n",
    "    print('def child1_fun1() invoked... started', end=\":\"*5+\"\\n\")\n",
    "    time.sleep(2)\n",
    "    print('def child1_fun1() invoked...ended', end=\":\"*5+\"\\n\")\n",
    "\n",
    "### Main-thread-app ###\n",
    "def main():\n",
    "    print(\" Main-thread - starts \")\n",
    "    t1 = threading.Thread(target=child1_fun1 )\n",
    "    print('t1 = ', t1)\n",
    "\n",
    "    t1.start()\n",
    "    print(\"+- \"*25)\n",
    "    \n",
    "    time.sleep(1)\n",
    "    t1.join()\n",
    "    print(\" Main-thread - ends \")\n",
    "    \n",
    "if __name__ == '__main__':\n",
    "    main()"
   ]
  },
  {
   "cell_type": "code",
   "execution_count": 22,
   "id": "24549ac3",
   "metadata": {},
   "outputs": [
    {
     "name": "stdout",
     "output_type": "stream",
     "text": [
      " Main-thread - starts \n",
      "t1 =  <Thread(Thread-14, initial)>\n",
      "def child1_fun1() invoked... started\n",
      "+- +- +- +- +- +- +- +- +- +- +- +- +- +- +- +- +- +- +- +- +- +- +- +- +- \n",
      "def child1_fun1() invoked...ended\n",
      " Main-thread - ends \n"
     ]
    }
   ],
   "source": [
    "import time\n",
    "\n",
    "### Child-thread-functions\n",
    "def child1_fun1():\n",
    "    print('def child1_fun1() invoked... started')\n",
    "    time.sleep(2)\n",
    "    print('def child1_fun1() invoked...ended')\n",
    "\n",
    "### Main-thread-app ###\n",
    "def main():\n",
    "    print(\" Main-thread - starts \")\n",
    "    t1 = threading.Thread(target=child1_fun1 )\n",
    "    print('t1 = ', t1)\n",
    "\n",
    "    t1.start()\n",
    "    print(\"+- \"*25)\n",
    "    \n",
    "    time.sleep(1)\n",
    "    t1.join()\n",
    "    print(\" Main-thread - ends \")\n",
    "    \n",
    "if __name__ == '__main__':\n",
    "    main()"
   ]
  },
  {
   "cell_type": "code",
   "execution_count": 23,
   "id": "e43e2d1e",
   "metadata": {},
   "outputs": [
    {
     "name": "stdout",
     "output_type": "stream",
     "text": [
      " Main-thread - starts \n",
      "t1 =  <Thread(Thread-15, initial)>\n",
      "def child1_fun1() invoked... started+- +- +- +- +- +- +- +- +- +- +- +- +- +- +- +- +- +- +- +- +- +- +- +- +- \n",
      "\n",
      "def child1_fun1() invoked...ended\n",
      " Main-thread - ends \n"
     ]
    }
   ],
   "source": [
    "import time\n",
    "\n",
    "### Child-thread-functions\n",
    "def child1_fun1():\n",
    "    print('def child1_fun1() invoked... started')\n",
    "    time.sleep(2)\n",
    "    print('def child1_fun1() invoked...ended')\n",
    "\n",
    "### Main-thread-app ###\n",
    "def main():\n",
    "    print(\" Main-thread - starts \")\n",
    "    t1 = threading.Thread(target=child1_fun1 )\n",
    "    print('t1 = ', t1)\n",
    "\n",
    "    t1.start()\n",
    "    print(\"+- \"*25)\n",
    "    \n",
    "    time.sleep(1)\n",
    "    t1.join()\n",
    "    print(\" Main-thread - ends \")\n",
    "    \n",
    "if __name__ == '__main__':\n",
    "    main()"
   ]
  },
  {
   "cell_type": "code",
   "execution_count": null,
   "id": "53a5a618",
   "metadata": {},
   "outputs": [],
   "source": []
  },
  {
   "cell_type": "code",
   "execution_count": null,
   "id": "5ee3bf4c",
   "metadata": {},
   "outputs": [],
   "source": []
  },
  {
   "cell_type": "code",
   "execution_count": null,
   "id": "6dfbfad5",
   "metadata": {},
   "outputs": [],
   "source": []
  },
  {
   "cell_type": "code",
   "execution_count": null,
   "id": "17297c07",
   "metadata": {},
   "outputs": [],
   "source": []
  },
  {
   "cell_type": "code",
   "execution_count": null,
   "id": "d26876a4",
   "metadata": {},
   "outputs": [],
   "source": []
  },
  {
   "cell_type": "code",
   "execution_count": null,
   "id": "586f116c",
   "metadata": {},
   "outputs": [],
   "source": []
  }
 ],
 "metadata": {
  "kernelspec": {
   "display_name": "Python 3 (ipykernel)",
   "language": "python",
   "name": "python3"
  },
  "language_info": {
   "codemirror_mode": {
    "name": "ipython",
    "version": 3
   },
   "file_extension": ".py",
   "mimetype": "text/x-python",
   "name": "python",
   "nbconvert_exporter": "python",
   "pygments_lexer": "ipython3",
   "version": "3.9.7"
  }
 },
 "nbformat": 4,
 "nbformat_minor": 5
}
