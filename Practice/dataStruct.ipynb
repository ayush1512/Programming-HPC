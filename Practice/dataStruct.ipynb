{
 "cells": [
  {
   "cell_type": "code",
   "execution_count": 1,
   "id": "8d702412",
   "metadata": {},
   "outputs": [
    {
     "name": "stdout",
     "output_type": "stream",
     "text": [
      "['apple', 'banana', 'orange']\n",
      "apple\n",
      "['apple', 'banana', 'orange', 'mango']\n",
      "['apple', 'pear', 'banana', 'orange', 'mango']\n",
      "apple\n",
      "banana\n",
      "mango\n",
      "orange\n",
      "pear\n"
     ]
    }
   ],
   "source": [
    "#List\n",
    "\n",
    "list=[\"apple\",\"banana\",\"orange\"]\n",
    "print(list)\n",
    "print(list[0])\n",
    "list.append(\"mango\")\n",
    "print(list)\n",
    "list.insert(1,\"pear\")\n",
    "print(list)\n",
    "list.sort()\n",
    "for x in list:\n",
    "    print(x)"
   ]
  },
  {
   "cell_type": "code",
   "execution_count": 3,
   "id": "157d07e7",
   "metadata": {},
   "outputs": [
    {
     "name": "stdout",
     "output_type": "stream",
     "text": [
      "Hello Pyth\n"
     ]
    }
   ],
   "source": [
    "#Strings\n",
    "\n",
    "s = \"Hello Python\"\n",
    "print(s[0:10])"
   ]
  },
  {
   "cell_type": "code",
   "execution_count": 4,
   "id": "ac85595f",
   "metadata": {},
   "outputs": [
    {
     "name": "stdout",
     "output_type": "stream",
     "text": [
      "(10, 20, 30)\n"
     ]
    }
   ],
   "source": [
    "#Tuples\n",
    "\n",
    "t = (10, 20, 30)\n",
    "print(t)"
   ]
  },
  {
   "cell_type": "code",
   "execution_count": null,
   "id": "db81daab",
   "metadata": {},
   "outputs": [
    {
     "name": "stdout",
     "output_type": "stream",
     "text": [
      "{'name': 'ABC', 'age': '12'}\n",
      "{'name': 'Alice', 'age': '12'}\n"
     ]
    }
   ],
   "source": [
    "#Dictionaries\n",
    "dict = {\"name\":\"ABC\",\"age\":\"12\"}\n",
    "print(dict)\n",
    "dict.update({\"name\":\"Alice\"})\n",
    "print(dict)\n",
    "dict.get"
   ]
  },
  {
   "cell_type": "code",
   "execution_count": null,
   "id": "44f30276",
   "metadata": {},
   "outputs": [
    {
     "name": "stdout",
     "output_type": "stream",
     "text": [
      "{0, 1, 2, 3}\n",
      "{0, 1, 2, 3, 4}\n"
     ]
    }
   ],
   "source": [
    "#Set\n",
    "s = {0,1,2,1,3}\n",
    "print(s)\n",
    "s.add(4)\n",
    "print(s)"
   ]
  },
  {
   "cell_type": "code",
   "execution_count": null,
   "id": "df46fadd",
   "metadata": {},
   "outputs": [],
   "source": []
  }
 ],
 "metadata": {
  "kernelspec": {
   "display_name": "Python 3",
   "language": "python",
   "name": "python3"
  },
  "language_info": {
   "codemirror_mode": {
    "name": "ipython",
    "version": 3
   },
   "file_extension": ".py",
   "mimetype": "text/x-python",
   "name": "python",
   "nbconvert_exporter": "python",
   "pygments_lexer": "ipython3",
   "version": "3.13.6"
  }
 },
 "nbformat": 4,
 "nbformat_minor": 5
}
