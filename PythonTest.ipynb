{
 "cells": [
  {
   "cell_type": "markdown",
   "id": "10235a4b",
   "metadata": {},
   "source": [
    "# Q1. DATABASE"
   ]
  },
  {
   "cell_type": "code",
   "execution_count": null,
   "id": "c2828d25",
   "metadata": {},
   "outputs": [
    {
     "name": "stdout",
     "output_type": "stream",
     "text": [
      "(1, 'A', 'Eng', 40)\n",
      "(2, 'B', 'His', 50)\n",
      "(3, 'C', 'Mat', 20)\n",
      "(4, 'D', 'CS', 30)\n",
      "(5, 'E', 'Geo', 60)\n",
      "(6, 'F', 'Hin', 40)\n",
      "*-*-*-*-*-*-*-*-*-*-*-*-*-*-*-*-*-*-*-*-*-*-*-*-*-\n",
      "Updated field is:\n",
      "(1, 'Ayush', 'CSE', 50)\n",
      "*-*-*-*-*-*-*-*-*-*-*-*-*-*-*-*-*-*-*-*-*-*-*-*-*-\n",
      "Updated table is:\n",
      "(2, 'B', 'His', 50)\n",
      "(3, 'C', 'Mat', 20)\n",
      "(4, 'D', 'CS', 30)\n",
      "(5, 'E', 'Geo', 60)\n",
      "(6, 'F', 'Hin', 40)\n",
      "(7, 'G', 'Hin', 50)\n"
     ]
    }
   ],
   "source": [
    "import mysql.connector as ms\n",
    "db = ms.connect(host='localhost', username='root', password='MySql@123', autocommit=True)\n",
    "cursor = db.cursor()\n",
    "try:\n",
    "    cursor.execute('USE examdb')\n",
    "except:    \n",
    "    cursor.execute('CREATE DATABASE examdb')\n",
    "    cursor.execute('CREATE TABLE student (id int NOT NULL AUTO_INCREMENT PRIMARY KEY, name varchar(30), course varchar(3), marks int)')\n",
    "\n",
    "def insert():\n",
    "    cursor = db.cursor()\n",
    "    name = ['A','B','C','D','E','F','G','H','I']\n",
    "    course = ['Eng','His','Mat','CS','Geo','Hin','Hin','Hin','Hin']\n",
    "    marks = [40,50,20,30,60,40,50,40,30]\n",
    "\n",
    "    # x = int(input(\"Enter the number of records to be enetered: \"))\n",
    "    # for i in range(x):\n",
    "    #     name = []\n",
    "    #     course = []\n",
    "    #     marks = []\n",
    "    #     name.append(str(input(f\"Name {i+1}\")))\n",
    "    #     course.append(str(input(f\"Course {i+1}\")))\n",
    "    #     marks.append(int(input(f\"Marks {i+1}\")))\n",
    "\n",
    "    for i in range(9):\n",
    "        cursor.execute(f\"INSERT INTO student VALUES('{i+1}','{name[i]}','{course[i]}','{marks[i]}')\")\n",
    "\n",
    "    cursor.close()\n",
    "\n",
    "def display():\n",
    "    cursor = db.cursor()\n",
    "    cursor.execute(\"SELECT * FROM student\")\n",
    "    res = cursor.fetchall()\n",
    "    for i in range(7):\n",
    "        print(res[i])\n",
    "    cursor.close()\n",
    "\n",
    "def update():\n",
    "    cursor = db.cursor()\n",
    "    id = int(input(\"(UPDATE) Enter the ID: \"))\n",
    "    u_name = str(input(\"Enter the name:\"))\n",
    "    u_course = str(input(\"Enter the course:\"))\n",
    "    u_marks = int(input(\"Enter the marks:\"))\n",
    "    cursor.execute(f\"UPDATE student SET name='{u_name}', course='{u_course}', marks='{u_marks}' where ID={id}\")\n",
    "    cursor.execute(f\"SELECT * FROM student WHERE id={id}\")\n",
    "    update = cursor.fetchone()\n",
    "    print(\"*-\"*25)\n",
    "    print(\"Updated field is:\")\n",
    "    print(update)\n",
    "    cursor.close()\n",
    "\n",
    "def delete():\n",
    "    cursor = db.cursor()\n",
    "    id = int(input(\"(DELETE) Enter the ID: \"))\n",
    "    cursor.execute(f\"DELETE FROM student WHERE id={id}\")\n",
    "    print(\"*-\"*25)\n",
    "    print(\"Updated table is:\")\n",
    "    display()\n",
    "    cursor.close()\n",
    "\n",
    "\n",
    "\n",
    "insert()\n",
    "display()\n",
    "update()\n",
    "delete()\n",
    "\n",
    "\n",
    "\n"
   ]
  },
  {
   "cell_type": "markdown",
   "id": "03da8dcb",
   "metadata": {},
   "source": [
    "# Q2. Data Visualization\n"
   ]
  },
  {
   "cell_type": "code",
   "execution_count": 60,
   "id": "b3f11c14",
   "metadata": {},
   "outputs": [],
   "source": [
    "import pandas as pd\n",
    "import numpy as np\n",
    "import matplotlib.pyplot as plt\n",
    "import seaborn as sns"
   ]
  },
  {
   "cell_type": "code",
   "execution_count": 64,
   "id": "3cb99f6b",
   "metadata": {},
   "outputs": [
    {
     "name": "stdout",
     "output_type": "stream",
     "text": [
      "  Region Product  Sales_Q1  Sales_Q2  Sales_Q3  Sales_Q4  Customer_Rating  \\\n",
      "0  North  Laptop       152       229       142        64              4.4   \n",
      "1  North  Laptop       171       260       264       124              4.4   \n",
      "2  North  Laptop       201       180       199       102              4.9   \n",
      "3  North  Laptop       179       241       237        70              4.3   \n",
      "4  North  Laptop       285       138        98       268              3.6   \n",
      "5  North  Mobile       237       257        64       239              4.1   \n",
      "6  North  Mobile       293       113       298       180              3.8   \n",
      "\n",
      "   Units_Sold  Profit  \n",
      "0         800  160.37  \n",
      "1         472  201.41  \n",
      "2         591  202.55  \n",
      "3         413  190.29  \n",
      "4         781  206.08  \n",
      "5         662  166.62  \n",
      "6         746  252.82  \n"
     ]
    }
   ],
   "source": [
    "df = pd.read_csv('./data.csv')\n",
    "print(df)"
   ]
  },
  {
   "cell_type": "code",
   "execution_count": 63,
   "id": "ccbc285f",
   "metadata": {},
   "outputs": [
    {
     "name": "stdout",
     "output_type": "stream",
     "text": [
      "First 5 rows:\n",
      "  Region Product  Sales_Q1  Sales_Q2  Sales_Q3  Sales_Q4  Customer_Rating  \\\n",
      "0  North  Laptop       152       229       142        64              4.4   \n",
      "1  North  Laptop       171       260       264       124              4.4   \n",
      "2  North  Laptop       201       180       199       102              4.9   \n",
      "3  North  Laptop       179       241       237        70              4.3   \n",
      "4  North  Laptop       285       138        98       268              3.6   \n",
      "\n",
      "   Units_Sold  Profit  \n",
      "0         800  160.37  \n",
      "1         472  201.41  \n",
      "2         591  202.55  \n",
      "3         413  190.29  \n",
      "4         781  206.08  \n",
      "\n",
      "Shape of the dataset:\n",
      "(7, 9)\n",
      "\n",
      "Data types of each column:\n",
      "Region              object\n",
      "Product             object\n",
      "Sales_Q1             int64\n",
      "Sales_Q2             int64\n",
      "Sales_Q3             int64\n",
      "Sales_Q4             int64\n",
      "Customer_Rating    float64\n",
      "Units_Sold           int64\n",
      "Profit             float64\n",
      "dtype: object\n"
     ]
    }
   ],
   "source": [
    "print(\"First 5 rows:\")\n",
    "print(df.head())\n",
    "print(\"\\nShape of the dataset:\")\n",
    "print(df.shape)\n",
    "print(\"\\nData types of each column:\")\n",
    "print(df.dtypes)"
   ]
  },
  {
   "cell_type": "code",
   "execution_count": 66,
   "id": "021b89b8",
   "metadata": {},
   "outputs": [
    {
     "name": "stdout",
     "output_type": "stream",
     "text": [
      "Mean profit: 197.16285714285712\n",
      "Median profit: 201.41\n",
      "Standard Deviation of profit: 28.178282272642782\n"
     ]
    }
   ],
   "source": [
    "profit = df['Profit']\n",
    "mean_profit = np.mean(profit)\n",
    "median_profit = np.median(profit)\n",
    "std_profit = np.std(profit)\n",
    "\n",
    "print(f\"Mean profit: {mean_profit}\")\n",
    "print(f\"Median profit: {median_profit}\")\n",
    "print(f\"Standard Deviation of profit: {std_profit}\")"
   ]
  },
  {
   "cell_type": "code",
   "execution_count": 67,
   "id": "20dce201",
   "metadata": {},
   "outputs": [
    {
     "name": "stdout",
     "output_type": "stream",
     "text": [
      "Missing values in each column:\n",
      "Region             0\n",
      "Product            0\n",
      "Sales_Q1           0\n",
      "Sales_Q2           0\n",
      "Sales_Q3           0\n",
      "Sales_Q4           0\n",
      "Customer_Rating    0\n",
      "Units_Sold         0\n",
      "Profit             0\n",
      "dtype: int64\n"
     ]
    }
   ],
   "source": [
    "print(\"Missing values in each column:\")\n",
    "print(df.isnull().sum())"
   ]
  },
  {
   "cell_type": "code",
   "execution_count": 68,
   "id": "7e3cacce",
   "metadata": {},
   "outputs": [
    {
     "name": "stdout",
     "output_type": "stream",
     "text": [
      "Profit greater than 200: \n",
      "  Region Product  Sales_Q1  Sales_Q2  Sales_Q3  Sales_Q4  Customer_Rating  \\\n",
      "1  North  Laptop       171       260       264       124              4.4   \n",
      "2  North  Laptop       201       180       199       102              4.9   \n",
      "4  North  Laptop       285       138        98       268              3.6   \n",
      "6  North  Mobile       293       113       298       180              3.8   \n",
      "\n",
      "   Units_Sold  Profit  \n",
      "1         472  201.41  \n",
      "2         591  202.55  \n",
      "4         781  206.08  \n",
      "6         746  252.82  \n"
     ]
    }
   ],
   "source": [
    "filtered_df = df[df['Profit'] > 200]\n",
    "print(\"Profit greater than 200: \")\n",
    "print(filtered_df)"
   ]
  },
  {
   "cell_type": "code",
   "execution_count": 69,
   "id": "0ff9c3aa",
   "metadata": {},
   "outputs": [
    {
     "name": "stdout",
     "output_type": "stream",
     "text": [
      "Avg. Profit:\n",
      "Product\n",
      "Laptop    192.14\n",
      "Mobile    209.72\n",
      "Name: Profit, dtype: float64\n"
     ]
    }
   ],
   "source": [
    "grouped = df.groupby('Product')['Profit'].mean()\n",
    "print(\"Avg. Profit:\")\n",
    "print(grouped)"
   ]
  },
  {
   "cell_type": "code",
   "execution_count": 74,
   "id": "d21f2fa2",
   "metadata": {},
   "outputs": [
    {
     "data": {
      "image/png": "[encoded data removed]",
      "text/plain": [
       "<Figure size 640x480 with 1 Axes>"
      ]
     },
     "metadata": {},
     "output_type": "display_data"
    }
   ],
   "source": [
    "plt.figure()\n",
    "sns.countplot(data=df, x='Product')\n",
    "plt.xlabel('Product')\n",
    "plt.ylabel('No. of items')\n",
    "plt.show()"
   ]
  },
  {
   "cell_type": "code",
   "execution_count": 76,
   "id": "6a71bfcd",
   "metadata": {},
   "outputs": [
    {
     "data": {
      "image/png": "[encoded data removed]",
      "text/plain": [
       "<Figure size 640x480 with 1 Axes>"
      ]
     },
     "metadata": {},
     "output_type": "display_data"
    }
   ],
   "source": [
    "sns.scatterplot(data=df, x='Units_Sold', y='Profit', hue='Product')\n",
    "plt.title('Q1 vs Q2')\n",
    "plt.xlabel('Q1')\n",
    "plt.ylabel('Q2')\n",
    "plt.legend(title='Product')\n",
    "plt.show()"
   ]
  }
 ],
 "metadata": {
  "kernelspec": {
   "display_name": ".venv",
   "language": "python",
   "name": "python3"
  },
  "language_info": {
   "codemirror_mode": {
    "name": "ipython",
    "version": 3
   },
   "file_extension": ".py",
   "mimetype": "text/x-python",
   "name": "python",
   "nbconvert_exporter": "python",
   "pygments_lexer": "ipython3",
   "version": "3.13.6"
  }
 },
 "nbformat": 4,
 "nbformat_minor": 5
}
