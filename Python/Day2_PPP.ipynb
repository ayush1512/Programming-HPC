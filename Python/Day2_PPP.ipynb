{
 "cells": [
  {
   "cell_type": "code",
   "execution_count": null,
   "id": "efd1ed9f",
   "metadata": {},
   "outputs": [
    {
     "ename": "",
     "evalue": "",
     "output_type": "error",
     "traceback": [
      "\u001b[1;31mRunning cells with 'Python 3.13.6' requires the ipykernel package.\n",
      "\u001b[1;31m<a href='command:jupyter.createPythonEnvAndSelectController'>Create a Python Environment</a> with the required packages.\n",
      "\u001b[1;31mOr install 'ipykernel' using the command: '/usr/local/bin/python3 -m pip install ipykernel -U --user --force-reinstall'"
     ]
    }
   ],
   "source": [
    "#Decorators\n",
    "\n",
    "### Lib ###########\n",
    "def add(x,y):\n",
    "    print('--add-called--')\n",
    "    return x+y\n",
    "def sub(x,y):\n",
    "    print('--sub-called--')\n",
    "    return x-y\n",
    "\n",
    "### Middle-ware => Framework #####\n",
    "def render(fn):\n",
    "    def Inner(x,y):\n",
    "        print('--ALLOCATE RESOURCES--')\n",
    "        print(f'fn({x},{y}) = {fn(x,y)}')\n",
    "        print('--RELEASE RESOURCES--')\n",
    "        print('-* '*25)\n",
    "    return Inner\n",
    "\n",
    "\n",
    "def main():\n",
    "    summ = render(add)\n",
    "    print(f'summation = {summ}')\n",
    "    diff = render(sub)\n",
    "    print(f'difference = {diff}')\n",
    "\n",
    "    summ(3,10)\n",
    "    diff(3,10)\n",
    "\n",
    "if __name__ == '__main__':\n",
    "    main()\n"
   ]
  },
  {
   "cell_type": "markdown",
   "id": "c78463d5",
   "metadata": {},
   "source": [
    "# Python Debugger"
   ]
  },
  {
   "cell_type": "code",
   "execution_count": null,
   "id": "42351fbb",
   "metadata": {},
   "outputs": [],
   "source": []
  },
  {
   "cell_type": "markdown",
   "id": "31f5bee6",
   "metadata": {},
   "source": [
    "# Generator\n",
    "Lazy-Fetching Techniques\n",
    "> in = iter + next"
   ]
  },
  {
   "cell_type": "code",
   "execution_count": null,
   "id": "12f6cbd9",
   "metadata": {},
   "outputs": [],
   "source": [
    "def main():\n",
    "    for i in 10,20,30,40:\n",
    "        print(f'doJob({i})')\n",
    "\n",
    "if __name__ == '__main__':\n",
    "    main()"
   ]
  },
  {
   "cell_type": "code",
   "execution_count": null,
   "id": "07a11a42",
   "metadata": {},
   "outputs": [],
   "source": [
    "# def DataGen():\n",
    "#     print(\"1st Data Generated\")\n",
    "#     return 10\n",
    "tup1 = (10,20,30,40)\n",
    "\n",
    "def main():\n",
    "    for i in tup1:\n",
    "        print(f'doJob({i})')\n",
    "\n",
    "if __name__ == '__main__':\n",
    "    main()"
   ]
  },
  {
   "cell_type": "code",
   "execution_count": null,
   "id": "431890d5",
   "metadata": {},
   "outputs": [],
   "source": [
    "def DataGen():\n",
    "    print(\"1st Data Generated\")\n",
    "    yield 10\n",
    "    print(\"2nd Data Generated\")\n",
    "    yield 20\n",
    "    print(\"3rd Data Generated\")\n",
    "    yield 30\n",
    "    print(\"4th Data Generated\")\n",
    "    yield 40\n",
    "    # raise StopIteration()\n",
    "\n",
    "def main():\n",
    "    for i in DataGen():\n",
    "        print(f'doJob({i})')\n",
    "\n",
    "if __name__ == '__main__':\n",
    "    main()"
   ]
  },
  {
   "cell_type": "code",
   "execution_count": null,
   "id": "4b2dffee",
   "metadata": {},
   "outputs": [],
   "source": [
    "gen = DataGen()\n",
    "gen"
   ]
  },
  {
   "cell_type": "code",
   "execution_count": null,
   "id": "01905203",
   "metadata": {},
   "outputs": [],
   "source": [
    "try:\n",
    "    next(gen)\n",
    "except:\n",
    "    print('__No more data left__')"
   ]
  },
  {
   "cell_type": "code",
   "execution_count": null,
   "id": "c7f19eb1",
   "metadata": {},
   "outputs": [],
   "source": []
  },
  {
   "cell_type": "markdown",
   "id": "98794e66",
   "metadata": {},
   "source": [
    "# Co-routines\n",
    "\n",
    "Difference between function, routine, sub-routine, co-routine\n",
    "\n",
    "> Functions -> A function is a type of subroutine that is designed to compute and return a value to the caller. Like subroutines, functions have a single entry point and execute to completion upon being called. The key distinction is the explicit return of a value.\n",
    ">\n",
    "> Routine -> A routine is a general term for a sequence of instructions within a program designed to perform a specific task. It can encompass subroutines, functions, and coroutines.\n",
    ">\n",
    "> Sub-Routine -> A subroutine is a block of code that performs a specific task and can be called from other parts of the program. It has a single entry point and executes to completion before returning control to the caller. Subroutines typically do not return a value.\n",
    ">\n",
    "> Co-Routine -> A coroutine is a block of code that allows for cooperative multitasking. Unlike subroutines and functions, coroutines can pause their execution and yield control to another coroutine, and then later resume execution from where they left off. This ability to pause and resume makes them suitable for implementing non-blocking operations, asynchronous programming, and generators. Coroutines can have multiple entry and re-entry points, allowing for flexible control flow management."
   ]
  },
  {
   "cell_type": "code",
   "execution_count": null,
   "id": "55397500",
   "metadata": {},
   "outputs": [],
   "source": []
  },
  {
   "cell_type": "code",
   "execution_count": null,
   "id": "f3909f43",
   "metadata": {},
   "outputs": [],
   "source": [
    "def CountDown(Count):\n",
    "    step = 1\n",
    "    while Count >= 0:\n",
    "        step = yield Count\n",
    "        Count -= step\n",
    "        \n",
    "############ App ###\n",
    "def main():\n",
    "    counter = CountDown(500)\n",
    "    print(f'doJob({next(counter)})') # 500\n",
    "    print(\"+- \"*25)\n",
    "    print(f'doJob({counter.send(75)})') # 425\n",
    "    print(\"+- \"*25)\n",
    "    print(f'doJob({counter.send(150)})') # 425 - 150 => 275\n",
    "    print(\"+- \"*25)\n",
    "    print(f'doJob({counter.send(175)})') # 100\n",
    "    print(\"+- \"*25)\n",
    "    print(f'doJob({counter.send(100)})') #0\n",
    "    print(\"+- \"*25)\n",
    "    try:\n",
    "        print(f'doJob({counter.send(1)}') # exception\n",
    "        print(\"+- \"*25)\n",
    "    except:\n",
    "        print(' Counter completed ')\n",
    "if __name__ == '__main__':\n",
    "    main()"
   ]
  }
 ],
 "metadata": {
  "kernelspec": {
   "display_name": "Python 3",
   "language": "python",
   "name": "python3"
  },
  "language_info": {
   "codemirror_mode": {
    "name": "ipython",
    "version": 3
   },
   "file_extension": ".py",
   "mimetype": "text/x-python",
   "name": "python",
   "nbconvert_exporter": "python",
   "pygments_lexer": "ipython3",
   "version": "3.13.6"
  }
 },
 "nbformat": 4,
 "nbformat_minor": 5
}
